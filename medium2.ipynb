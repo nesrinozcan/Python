{
 "cells": [
  {
   "cell_type": "markdown",
   "id": "14908aac-2fb9-4f23-96eb-678c78e7f5fb",
   "metadata": {},
   "source": [
    "# Reshaping Tables With MultiIndex"
   ]
  },
  {
   "cell_type": "markdown",
   "id": "f3ff4101-bd33-4a8d-8915-4ba1fc930aef",
   "metadata": {},
   "source": [
    " Data manipulation is a significant step of data analysis process. While manipulating data, 'Multi-level Indexing' may allow you to take an alternative approach to the data. Using multi index sometimes seriously helps you to take a different aspect to the data, but sometimes it is a must. There are various ways for creating multi index and I will show some of them."
   ]
  },
  {
   "cell_type": "markdown",
   "id": "4d876b9a-e43f-4073-b9d2-41355421afe8",
   "metadata": {},
   "source": [
    "Firstly, I will import titanic dataset from Seaborn library. Using built-in datasets is a practical way of exercising for data analysis. I want to see  the situation of \"age\" and \"survived\" variables according to \"sex\" and \"class\" varibles, so I selected only those columns from the dataset. I will show the first 5 rows with head() function to have a quick insight of the dataset."
   ]
  },
  {
   "cell_type": "code",
   "execution_count": 108,
   "id": "9f09d45e-9f94-48b0-90c7-18ad63fe5876",
   "metadata": {},
   "outputs": [
    {
     "data": {
      "text/html": [
       "<div>\n",
       "<style scoped>\n",
       "    .dataframe tbody tr th:only-of-type {\n",
       "        vertical-align: middle;\n",
       "    }\n",
       "\n",
       "    .dataframe tbody tr th {\n",
       "        vertical-align: top;\n",
       "    }\n",
       "\n",
       "    .dataframe thead th {\n",
       "        text-align: right;\n",
       "    }\n",
       "</style>\n",
       "<table border=\"1\" class=\"dataframe\">\n",
       "  <thead>\n",
       "    <tr style=\"text-align: right;\">\n",
       "      <th></th>\n",
       "      <th>sex</th>\n",
       "      <th>class</th>\n",
       "      <th>age</th>\n",
       "      <th>survived</th>\n",
       "    </tr>\n",
       "  </thead>\n",
       "  <tbody>\n",
       "    <tr>\n",
       "      <th>0</th>\n",
       "      <td>male</td>\n",
       "      <td>Third</td>\n",
       "      <td>22.0</td>\n",
       "      <td>0</td>\n",
       "    </tr>\n",
       "    <tr>\n",
       "      <th>1</th>\n",
       "      <td>female</td>\n",
       "      <td>First</td>\n",
       "      <td>38.0</td>\n",
       "      <td>1</td>\n",
       "    </tr>\n",
       "    <tr>\n",
       "      <th>2</th>\n",
       "      <td>female</td>\n",
       "      <td>Third</td>\n",
       "      <td>26.0</td>\n",
       "      <td>1</td>\n",
       "    </tr>\n",
       "    <tr>\n",
       "      <th>3</th>\n",
       "      <td>female</td>\n",
       "      <td>First</td>\n",
       "      <td>35.0</td>\n",
       "      <td>1</td>\n",
       "    </tr>\n",
       "    <tr>\n",
       "      <th>4</th>\n",
       "      <td>male</td>\n",
       "      <td>Third</td>\n",
       "      <td>35.0</td>\n",
       "      <td>0</td>\n",
       "    </tr>\n",
       "  </tbody>\n",
       "</table>\n",
       "</div>"
      ],
      "text/plain": [
       "      sex  class   age  survived\n",
       "0    male  Third  22.0         0\n",
       "1  female  First  38.0         1\n",
       "2  female  Third  26.0         1\n",
       "3  female  First  35.0         1\n",
       "4    male  Third  35.0         0"
      ]
     },
     "execution_count": 108,
     "metadata": {},
     "output_type": "execute_result"
    }
   ],
   "source": [
    "import seaborn as sns\n",
    "df = sns.load_dataset(\"titanic\")\n",
    "df = df[[\"sex\",\"class\",\"age\",\"survived\"]]\n",
    "df.head(5)"
   ]
  },
  {
   "cell_type": "code",
   "execution_count": null,
   "id": "91c0ac43-6fd0-4278-9b9a-d06d6dc53c2a",
   "metadata": {},
   "outputs": [],
   "source": []
  },
  {
   "cell_type": "markdown",
   "id": "efabefcc-d5d5-4096-a6a3-068c5c161b74",
   "metadata": {},
   "source": [
    "### pandas.DataFrame.set_index()"
   ]
  },
  {
   "cell_type": "markdown",
   "id": "ed83993b-a7b5-44f4-b759-0caf4a666c5c",
   "metadata": {},
   "source": [
    "Now, I will construct multi index with DataFrame.set_index() for \"sex\" and \"class\" columns in titanic dataset. set_index() function creates multi index, but it does not group by according to indexes with aggregation functions. This could be used to handle non-numeric data. If you want to apply aggregation functions on values, group_by() and pivot_table() functions will be useful. "
   ]
  },
  {
   "cell_type": "code",
   "execution_count": 109,
   "id": "3a0ee166-f406-4603-ab4d-c7f25e673afb",
   "metadata": {},
   "outputs": [
    {
     "data": {
      "text/html": [
       "<div>\n",
       "<style scoped>\n",
       "    .dataframe tbody tr th:only-of-type {\n",
       "        vertical-align: middle;\n",
       "    }\n",
       "\n",
       "    .dataframe tbody tr th {\n",
       "        vertical-align: top;\n",
       "    }\n",
       "\n",
       "    .dataframe thead th {\n",
       "        text-align: right;\n",
       "    }\n",
       "</style>\n",
       "<table border=\"1\" class=\"dataframe\">\n",
       "  <thead>\n",
       "    <tr style=\"text-align: right;\">\n",
       "      <th></th>\n",
       "      <th></th>\n",
       "      <th>age</th>\n",
       "      <th>survived</th>\n",
       "    </tr>\n",
       "    <tr>\n",
       "      <th>sex</th>\n",
       "      <th>class</th>\n",
       "      <th></th>\n",
       "      <th></th>\n",
       "    </tr>\n",
       "  </thead>\n",
       "  <tbody>\n",
       "    <tr>\n",
       "      <th>male</th>\n",
       "      <th>Third</th>\n",
       "      <td>22.0</td>\n",
       "      <td>0</td>\n",
       "    </tr>\n",
       "    <tr>\n",
       "      <th rowspan=\"3\" valign=\"top\">female</th>\n",
       "      <th>First</th>\n",
       "      <td>38.0</td>\n",
       "      <td>1</td>\n",
       "    </tr>\n",
       "    <tr>\n",
       "      <th>Third</th>\n",
       "      <td>26.0</td>\n",
       "      <td>1</td>\n",
       "    </tr>\n",
       "    <tr>\n",
       "      <th>First</th>\n",
       "      <td>35.0</td>\n",
       "      <td>1</td>\n",
       "    </tr>\n",
       "    <tr>\n",
       "      <th rowspan=\"4\" valign=\"top\">male</th>\n",
       "      <th>Third</th>\n",
       "      <td>35.0</td>\n",
       "      <td>0</td>\n",
       "    </tr>\n",
       "    <tr>\n",
       "      <th>Third</th>\n",
       "      <td>NaN</td>\n",
       "      <td>0</td>\n",
       "    </tr>\n",
       "    <tr>\n",
       "      <th>First</th>\n",
       "      <td>54.0</td>\n",
       "      <td>0</td>\n",
       "    </tr>\n",
       "    <tr>\n",
       "      <th>Third</th>\n",
       "      <td>2.0</td>\n",
       "      <td>0</td>\n",
       "    </tr>\n",
       "    <tr>\n",
       "      <th rowspan=\"2\" valign=\"top\">female</th>\n",
       "      <th>Third</th>\n",
       "      <td>27.0</td>\n",
       "      <td>1</td>\n",
       "    </tr>\n",
       "    <tr>\n",
       "      <th>Second</th>\n",
       "      <td>14.0</td>\n",
       "      <td>1</td>\n",
       "    </tr>\n",
       "  </tbody>\n",
       "</table>\n",
       "</div>"
      ],
      "text/plain": [
       "                age  survived\n",
       "sex    class                 \n",
       "male   Third   22.0         0\n",
       "female First   38.0         1\n",
       "       Third   26.0         1\n",
       "       First   35.0         1\n",
       "male   Third   35.0         0\n",
       "       Third    NaN         0\n",
       "       First   54.0         0\n",
       "       Third    2.0         0\n",
       "female Third   27.0         1\n",
       "       Second  14.0         1"
      ]
     },
     "execution_count": 109,
     "metadata": {},
     "output_type": "execute_result"
    }
   ],
   "source": [
    "multiindex_set = df.iloc[:10,:].set_index([\"sex\",\"class\"])\n",
    "multiindex_set"
   ]
  },
  {
   "cell_type": "code",
   "execution_count": 87,
   "id": "657a3658-7e3c-46b3-8145-8a3c45e87faf",
   "metadata": {},
   "outputs": [
    {
     "data": {
      "text/plain": [
       "MultiIndex([(  'male',  'Third'),\n",
       "            ('female',  'First'),\n",
       "            ('female',  'Third'),\n",
       "            ('female',  'First'),\n",
       "            (  'male',  'Third'),\n",
       "            (  'male',  'Third'),\n",
       "            (  'male',  'First'),\n",
       "            (  'male',  'Third'),\n",
       "            ('female',  'Third'),\n",
       "            ('female', 'Second')],\n",
       "           names=['sex', 'class'])"
      ]
     },
     "execution_count": 87,
     "metadata": {},
     "output_type": "execute_result"
    }
   ],
   "source": [
    "multiindex_set.index"
   ]
  },
  {
   "cell_type": "markdown",
   "id": "ce9ef2cd-6916-4466-8c0f-1aa4a4c06980",
   "metadata": {},
   "source": [
    "### DataFrame.group_by() & pandas.pivot_table()"
   ]
  },
  {
   "cell_type": "markdown",
   "id": "227b2021-8b92-4b81-81b8-31b27a9b3193",
   "metadata": {},
   "source": [
    "group_by() and pivot_table() functions allow us to apply aggregation functions over values according to indexes. Furthermore we can apply multiple types of aggregations for any column with the help of group_by() and pivot_table() functions "
   ]
  },
  {
   "cell_type": "code",
   "execution_count": 110,
   "id": "111bf213-f9df-49f6-a2f4-0c80f330e902",
   "metadata": {},
   "outputs": [
    {
     "data": {
      "text/html": [
       "<div>\n",
       "<style scoped>\n",
       "    .dataframe tbody tr th:only-of-type {\n",
       "        vertical-align: middle;\n",
       "    }\n",
       "\n",
       "    .dataframe tbody tr th {\n",
       "        vertical-align: top;\n",
       "    }\n",
       "\n",
       "    .dataframe thead th {\n",
       "        text-align: right;\n",
       "    }\n",
       "</style>\n",
       "<table border=\"1\" class=\"dataframe\">\n",
       "  <thead>\n",
       "    <tr style=\"text-align: right;\">\n",
       "      <th></th>\n",
       "      <th></th>\n",
       "      <th>age</th>\n",
       "      <th>survived</th>\n",
       "    </tr>\n",
       "    <tr>\n",
       "      <th>sex</th>\n",
       "      <th>class</th>\n",
       "      <th></th>\n",
       "      <th></th>\n",
       "    </tr>\n",
       "  </thead>\n",
       "  <tbody>\n",
       "    <tr>\n",
       "      <th rowspan=\"3\" valign=\"top\">female</th>\n",
       "      <th>First</th>\n",
       "      <td>2.00</td>\n",
       "      <td>1.0</td>\n",
       "    </tr>\n",
       "    <tr>\n",
       "      <th>Second</th>\n",
       "      <td>2.00</td>\n",
       "      <td>1.0</td>\n",
       "    </tr>\n",
       "    <tr>\n",
       "      <th>Third</th>\n",
       "      <td>0.75</td>\n",
       "      <td>0.5</td>\n",
       "    </tr>\n",
       "    <tr>\n",
       "      <th rowspan=\"3\" valign=\"top\">male</th>\n",
       "      <th>First</th>\n",
       "      <td>0.92</td>\n",
       "      <td>0.0</td>\n",
       "    </tr>\n",
       "    <tr>\n",
       "      <th>Second</th>\n",
       "      <td>0.67</td>\n",
       "      <td>0.0</td>\n",
       "    </tr>\n",
       "    <tr>\n",
       "      <th>Third</th>\n",
       "      <td>0.42</td>\n",
       "      <td>0.0</td>\n",
       "    </tr>\n",
       "  </tbody>\n",
       "</table>\n",
       "</div>"
      ],
      "text/plain": [
       "                age  survived\n",
       "sex    class                 \n",
       "female First   2.00       1.0\n",
       "       Second  2.00       1.0\n",
       "       Third   0.75       0.5\n",
       "male   First   0.92       0.0\n",
       "       Second  0.67       0.0\n",
       "       Third   0.42       0.0"
      ]
     },
     "execution_count": 110,
     "metadata": {},
     "output_type": "execute_result"
    }
   ],
   "source": [
    "multiindex_groupby = df.groupby([\"sex\",\"class\"]).agg({\"age\":\"min\",\"survived\":\"median\"})\n",
    "multiindex_groupby"
   ]
  },
  {
   "cell_type": "code",
   "execution_count": 111,
   "id": "5757e0e2-fe7c-46b1-a080-55d2acc439bf",
   "metadata": {},
   "outputs": [
    {
     "data": {
      "text/plain": [
       "MultiIndex([('female',  'First'),\n",
       "            ('female', 'Second'),\n",
       "            ('female',  'Third'),\n",
       "            (  'male',  'First'),\n",
       "            (  'male', 'Second'),\n",
       "            (  'male',  'Third')],\n",
       "           names=['sex', 'class'])"
      ]
     },
     "execution_count": 111,
     "metadata": {},
     "output_type": "execute_result"
    }
   ],
   "source": [
    "multiindex_groupby.index"
   ]
  },
  {
   "cell_type": "code",
   "execution_count": 120,
   "id": "fcf857e6-615a-4f61-b211-a2e5eac9d8e5",
   "metadata": {},
   "outputs": [
    {
     "data": {
      "text/html": [
       "<div>\n",
       "<style scoped>\n",
       "    .dataframe tbody tr th:only-of-type {\n",
       "        vertical-align: middle;\n",
       "    }\n",
       "\n",
       "    .dataframe tbody tr th {\n",
       "        vertical-align: top;\n",
       "    }\n",
       "\n",
       "    .dataframe thead tr th {\n",
       "        text-align: left;\n",
       "    }\n",
       "\n",
       "    .dataframe thead tr:last-of-type th {\n",
       "        text-align: right;\n",
       "    }\n",
       "</style>\n",
       "<table border=\"1\" class=\"dataframe\">\n",
       "  <thead>\n",
       "    <tr>\n",
       "      <th></th>\n",
       "      <th></th>\n",
       "      <th colspan=\"3\" halign=\"left\">age</th>\n",
       "      <th>survived</th>\n",
       "    </tr>\n",
       "    <tr>\n",
       "      <th></th>\n",
       "      <th></th>\n",
       "      <th>max</th>\n",
       "      <th>mean</th>\n",
       "      <th>min</th>\n",
       "      <th>mean</th>\n",
       "    </tr>\n",
       "    <tr>\n",
       "      <th>sex</th>\n",
       "      <th>class</th>\n",
       "      <th></th>\n",
       "      <th></th>\n",
       "      <th></th>\n",
       "      <th></th>\n",
       "    </tr>\n",
       "  </thead>\n",
       "  <tbody>\n",
       "    <tr>\n",
       "      <th rowspan=\"3\" valign=\"top\">female</th>\n",
       "      <th>First</th>\n",
       "      <td>63.0</td>\n",
       "      <td>34.611765</td>\n",
       "      <td>2.00</td>\n",
       "      <td>0.968085</td>\n",
       "    </tr>\n",
       "    <tr>\n",
       "      <th>Second</th>\n",
       "      <td>57.0</td>\n",
       "      <td>28.722973</td>\n",
       "      <td>2.00</td>\n",
       "      <td>0.921053</td>\n",
       "    </tr>\n",
       "    <tr>\n",
       "      <th>Third</th>\n",
       "      <td>63.0</td>\n",
       "      <td>21.750000</td>\n",
       "      <td>0.75</td>\n",
       "      <td>0.500000</td>\n",
       "    </tr>\n",
       "    <tr>\n",
       "      <th rowspan=\"3\" valign=\"top\">male</th>\n",
       "      <th>First</th>\n",
       "      <td>80.0</td>\n",
       "      <td>41.281386</td>\n",
       "      <td>0.92</td>\n",
       "      <td>0.368852</td>\n",
       "    </tr>\n",
       "    <tr>\n",
       "      <th>Second</th>\n",
       "      <td>70.0</td>\n",
       "      <td>30.740707</td>\n",
       "      <td>0.67</td>\n",
       "      <td>0.157407</td>\n",
       "    </tr>\n",
       "    <tr>\n",
       "      <th>Third</th>\n",
       "      <td>74.0</td>\n",
       "      <td>26.507589</td>\n",
       "      <td>0.42</td>\n",
       "      <td>0.135447</td>\n",
       "    </tr>\n",
       "  </tbody>\n",
       "</table>\n",
       "</div>"
      ],
      "text/plain": [
       "                age                   survived\n",
       "                max       mean   min      mean\n",
       "sex    class                                  \n",
       "female First   63.0  34.611765  2.00  0.968085\n",
       "       Second  57.0  28.722973  2.00  0.921053\n",
       "       Third   63.0  21.750000  0.75  0.500000\n",
       "male   First   80.0  41.281386  0.92  0.368852\n",
       "       Second  70.0  30.740707  0.67  0.157407\n",
       "       Third   74.0  26.507589  0.42  0.135447"
      ]
     },
     "execution_count": 120,
     "metadata": {},
     "output_type": "execute_result"
    }
   ],
   "source": [
    "multiindex_pivottable = pd.pivot_table(df, values=[\"survived\",\"age\"], index=[\"sex\",\"class\"], aggfunc={\"age\":[min,\"max\",np.mean],\"survived\":np.mean})\n",
    "multiindex_pivottable"
   ]
  },
  {
   "cell_type": "markdown",
   "id": "ac7fd228-21b7-4af2-bf2f-c2e6608a4d2e",
   "metadata": {},
   "source": [
    "Additionally, if we want to filter according to one or more index on a multi indexed dataframe, we can use iloc or loc for selection."
   ]
  },
  {
   "cell_type": "code",
   "execution_count": 113,
   "id": "8850d5b7-722c-492e-a797-c0866feb8561",
   "metadata": {},
   "outputs": [
    {
     "data": {
      "text/plain": [
       "age         63.0\n",
       "survived     1.0\n",
       "Name: (female, First), dtype: float64"
      ]
     },
     "execution_count": 113,
     "metadata": {},
     "output_type": "execute_result"
    }
   ],
   "source": [
    "multiindex_pivottable.loc[\"female\",\"First\"]"
   ]
  },
  {
   "cell_type": "code",
   "execution_count": 123,
   "id": "88bf6d76-9fad-4865-bcaa-53d82dceb2eb",
   "metadata": {},
   "outputs": [
    {
     "data": {
      "text/plain": [
       "2.0"
      ]
     },
     "execution_count": 123,
     "metadata": {},
     "output_type": "execute_result"
    }
   ],
   "source": [
    "multiindex_pivottable.iloc[1,2]"
   ]
  },
  {
   "cell_type": "markdown",
   "id": "b7fbff50-9f5e-4105-b45c-fa9e7af1ccbc",
   "metadata": {},
   "source": [
    "There are many other issues about reshaping dataframes as a part of data analysis. I tried to show how to construct multi-indexed dataframes with some simple examples in my post. See "
   ]
  }
 ],
 "metadata": {
  "kernelspec": {
   "display_name": "Python 3 (ipykernel)",
   "language": "python",
   "name": "python3"
  },
  "language_info": {
   "codemirror_mode": {
    "name": "ipython",
    "version": 3
   },
   "file_extension": ".py",
   "mimetype": "text/x-python",
   "name": "python",
   "nbconvert_exporter": "python",
   "pygments_lexer": "ipython3",
   "version": "3.9.12"
  }
 },
 "nbformat": 4,
 "nbformat_minor": 5
}
